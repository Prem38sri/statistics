{
 "cells": [
  {
   "cell_type": "markdown",
   "metadata": {},
   "source": [
    "# Statistics Quick Revist"
   ]
  },
  {
   "cell_type": "markdown",
   "metadata": {},
   "source": [
    " Categorical or qualitative data - \n",
    " Example - colors, breed of dogs, profession, gender etc\n",
    " \n",
    " Numerical or quantitative data - \n",
    " Example - weight , lenght ,time\n",
    " \n",
    " \n",
    " "
   ]
  },
  {
   "cell_type": "markdown",
   "metadata": {},
   "source": [
    "#### Mean"
   ]
  },
  {
   "cell_type": "markdown",
   "metadata": {},
   "source": [
    "<h3> $$\\mu = ( \\sum x) / n$$</h3>"
   ]
  },
  {
   "cell_type": "code",
   "execution_count": 1,
   "metadata": {},
   "outputs": [
    {
     "data": {
      "text/plain": [
       "4.5"
      ]
     },
     "execution_count": 1,
     "metadata": {},
     "output_type": "execute_result"
    }
   ],
   "source": [
    "import numpy as np\n",
    "a=np.arange(10)\n",
    "a.mean()"
   ]
  },
  {
   "cell_type": "code",
   "execution_count": 2,
   "metadata": {},
   "outputs": [
    {
     "data": {
      "text/plain": [
       "array([4., 5., 6.])"
      ]
     },
     "execution_count": 2,
     "metadata": {},
     "output_type": "execute_result"
    }
   ],
   "source": [
    "ndl = [[1,2,3],[4,5,6],[7,8,9]]\n",
    "nd = np.array(ndl)\n",
    "nd.mean(axis=0) #columnwise"
   ]
  },
  {
   "cell_type": "markdown",
   "metadata": {},
   "source": [
    "#### Median \n",
    "\n",
    "Line up all the values in ascending order.If there are an odd number of values, the median is the one in the middle.If there are an even number of values, add the two middle ones together, and divide by two.\n",
    "\n",
    "To use when data is skewed because of outliers"
   ]
  },
  {
   "cell_type": "markdown",
   "metadata": {},
   "source": [
    "#### Mode\n",
    "\n",
    "Choose the value(s) with the highest frequency.If the data is showing two clusters of data, report a mode for each group.\n",
    "\n",
    "When you’re working with categorical data.When the data shows two or more clusters of data. Use to calculate average on categorical data."
   ]
  },
  {
   "cell_type": "markdown",
   "metadata": {},
   "source": [
    "#### Range\n",
    "\n",
    "The range is a way of measuring how spread out a set of values are. It’s given by Upper bound - Lower bound where the upper bound is the highest value, and the lower bound the lowest.\n",
    "\n",
    "\n",
    "Range is not usefull in cases of outliers in data."
   ]
  },
  {
   "cell_type": "markdown",
   "metadata": {},
   "source": [
    "#### Quartiles\n",
    "\n",
    "Quartiles\n",
    "Quartiles are values that split your data into\n",
    "quarters. The lowest quartile is called the\n",
    "lower quartile, and the highest quartile is\n",
    "called the upper quartile.\n",
    "The middle quartile is the median.\n",
    "\n",
    "By removing first and last quartile we can get average value.\n"
   ]
  },
  {
   "cell_type": "markdown",
   "metadata": {},
   "source": [
    "\n",
    "![](https://github.com/Prem38sri/statistics/blob/master/box_plot.PNG \"Optional Title\")"
   ]
  },
  {
   "attachments": {},
   "cell_type": "markdown",
   "metadata": {},
   "source": [
    "# BOX PLOT\n",
    "\n",
    "<img src=\"http://drive.google.com/uc?export=view&id=10Qxzq_LjpPb4Re1WnHmploFw5mHkCO7F\">"
   ]
  },
  {
   "cell_type": "markdown",
   "metadata": {},
   "source": [
    "# Variance"
   ]
  },
  {
   "attachments": {},
   "cell_type": "markdown",
   "metadata": {},
   "source": [
    "<img src=\"http://drive.google.com/uc?export=view&id=13HXM4-ZEob2AGBTSyUGNSjHaG6eM2mME\">"
   ]
  },
  {
   "cell_type": "markdown",
   "metadata": {},
   "source": [
    "The variance is a way of\n",
    "measuring spread, and it’s the\n",
    "average of the distance of\n",
    "values from the mean squared.\n"
   ]
  },
  {
   "cell_type": "markdown",
   "metadata": {},
   "source": [
    "<h3>$$Variance = \\sum(x - \\mu)^2/n$$</h3>"
   ]
  },
  {
   "cell_type": "markdown",
   "metadata": {},
   "source": [
    "<h3>$$Variance = (\\sum x^2) /n - \\mu^2$$</h3>"
   ]
  },
  {
   "cell_type": "markdown",
   "metadata": {},
   "source": [
    "# Standard Deviation"
   ]
  },
  {
   "cell_type": "markdown",
   "metadata": {},
   "source": [
    "<h3>$$\\sigma =\\sqrt Variance$$</h3>"
   ]
  },
  {
   "cell_type": "code",
   "execution_count": 23,
   "metadata": {},
   "outputs": [
    {
     "data": {
      "text/plain": [
       "8.25"
      ]
     },
     "execution_count": 23,
     "metadata": {},
     "output_type": "execute_result"
    }
   ],
   "source": [
    "#Numpy variance\n",
    "a.var()"
   ]
  },
  {
   "cell_type": "code",
   "execution_count": 24,
   "metadata": {},
   "outputs": [
    {
     "data": {
      "text/plain": [
       "2.8722813232690143"
      ]
     },
     "execution_count": 24,
     "metadata": {},
     "output_type": "execute_result"
    }
   ],
   "source": [
    "#Numpy Standard Deviation\n",
    "a.std()"
   ]
  },
  {
   "cell_type": "raw",
   "metadata": {},
   "source": [
    "Lesser std means more close to mean"
   ]
  },
  {
   "cell_type": "code",
   "execution_count": 26,
   "metadata": {},
   "outputs": [
    {
     "data": {
      "text/plain": [
       "<matplotlib.axes._subplots.AxesSubplot at 0x19bd98e7198>"
      ]
     },
     "execution_count": 26,
     "metadata": {},
     "output_type": "execute_result"
    },
    {
     "data": {
      "image/png": "[encoded data removed]",
      "text/plain": [
       "<Figure size 432x288 with 1 Axes>"
      ]
     },
     "metadata": {},
     "output_type": "display_data"
    }
   ],
   "source": [
    "import seaborn as sns\n",
    "a=[10,12,15,9,10,0,1,5,15,30,40,42,34,60,70,62,80,100]\n",
    "sns.set(style=\"whitegrid\")\n",
    "sns.boxplot(data=a,orient=\"h\",saturation=0.65, width=0.5, dodge=True, fliersize=5, linewidth=1, whis=1.5,color=\"green\")"
   ]
  },
  {
   "cell_type": "code",
   "execution_count": 25,
   "metadata": {},
   "outputs": [
    {
     "data": {
      "text/plain": [
       "<matplotlib.axes._subplots.AxesSubplot at 0x19bd988e588>"
      ]
     },
     "execution_count": 25,
     "metadata": {},
     "output_type": "execute_result"
    },
    {
     "data": {
      "image/png": "[encoded data removed]",
      "text/plain": [
       "<Figure size 432x288 with 1 Axes>"
      ]
     },
     "metadata": {},
     "output_type": "display_data"
    }
   ],
   "source": [
    "a=[30,40,42,34,60,50,30,25,20,62,80,70]\n",
    "sns.set(style=\"whitegrid\")\n",
    "sns.boxplot(data=a,orient=\"h\",saturation=0.65, width=0.5, dodge=True, fliersize=5, linewidth=1, whis=1.5,color=\"red\")"
   ]
  },
  {
   "cell_type": "code",
   "execution_count": null,
   "metadata": {},
   "outputs": [],
   "source": []
  }
 ],
 "metadata": {
  "kernelspec": {
   "display_name": "Python 3",
   "language": "python",
   "name": "python3"
  },
  "language_info": {
   "codemirror_mode": {
    "name": "ipython",
    "version": 3
   },
   "file_extension": ".py",
   "mimetype": "text/x-python",
   "name": "python",
   "nbconvert_exporter": "python",
   "pygments_lexer": "ipython3",
   "version": "3.7.3"
  }
 },
 "nbformat": 4,
 "nbformat_minor": 2
}
